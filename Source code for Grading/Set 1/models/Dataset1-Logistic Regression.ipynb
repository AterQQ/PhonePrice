{
 "cells": [
  {
   "cell_type": "markdown",
   "id": "395ccf0a",
   "metadata": {},
   "source": [
    "## Dataset1- Logistic Regression - Catherine\n",
    "aims to train a model for predicting mobile phone prices based on various attributes, specifications, and features. The goal is to assist phone manufacturers in market research and provide a price indicator for different phones' cost performance."
   ]
  },
  {
   "cell_type": "code",
   "execution_count": 1,
   "id": "9ca29834",
   "metadata": {},
   "outputs": [],
   "source": [
    "\n",
    "import pandas as pd\n",
    "import numpy as np\n",
    "import seaborn as sns\n",
    "import matplotlib.pyplot as plt\n",
    "\n",
    "from sklearn.model_selection import train_test_split, cross_val_score\n",
    "from sklearn.preprocessing import StandardScaler, LabelEncoder\n",
    "from sklearn.linear_model import LinearRegression, LogisticRegression\n",
    "from sklearn.metrics import mean_squared_error, r2_score, accuracy_score\n",
    "from sklearn.ensemble import RandomForestClassifier, GradientBoostingClassifier\n",
    "from sklearn.model_selection import cross_val_score\n"
   ]
  },
  {
   "cell_type": "code",
   "execution_count": 2,
   "id": "39762621",
   "metadata": {},
   "outputs": [],
   "source": [
    "df = pd.read_csv('train.csv')\n",
    "# Splitting the dataset into features and target variable\n",
    "X = df.drop('price_range', axis=1)\n",
    "y = df['price_range']\n",
    "\n",
    "# Splitting the data into training and testing sets\n",
    "X_train, X_test, y_train, y_test = train_test_split(X, y, test_size=0.2, random_state=42)\n",
    "\n",
    "# Feature scaling\n",
    "scaler = StandardScaler()\n",
    "X_train_scaled = scaler.fit_transform(X_train)\n",
    "X_test_scaled = scaler.transform(X_test)"
   ]
  },
  {
   "cell_type": "markdown",
   "id": "1853d031",
   "metadata": {},
   "source": [
    "# Logistic Regression"
   ]
  },
  {
   "cell_type": "code",
   "execution_count": 3,
   "id": "d5d42b67",
   "metadata": {},
   "outputs": [
    {
     "name": "stdout",
     "output_type": "stream",
     "text": [
      "Logistic Regression Accuracy: 0.975\n",
      "\n",
      "Linear Regression MSE: 0.1046929021193067\n",
      "Linear Regression R-squared: 0.9215339010437136\n"
     ]
    }
   ],
   "source": [
    "# Logistic Regression\n",
    "log_reg = LogisticRegression()\n",
    "log_reg.fit(X_train_scaled, y_train)\n",
    "log_reg_pred = log_reg.predict(X_test_scaled)\n",
    "log_reg_acc = accuracy_score(y_test, log_reg_pred)\n",
    "print(\"Logistic Regression Accuracy:\", log_reg_acc)\n",
    "print()\n",
    "# Linear Regression (treating the target as continuous)\n",
    "lin_reg = LinearRegression()\n",
    "lin_reg.fit(X_train_scaled, y_train)\n",
    "lin_reg_pred = lin_reg.predict(X_test_scaled)\n",
    "lin_reg_mse = mean_squared_error(y_test, lin_reg_pred)\n",
    "lin_reg_r2 = r2_score(y_test, lin_reg_pred)\n",
    "print(\"Linear Regression MSE:\", lin_reg_mse)\n",
    "print(\"Linear Regression R-squared:\", lin_reg_r2)"
   ]
  },
  {
   "cell_type": "markdown",
   "id": "a41cc5fe",
   "metadata": {},
   "source": [
    "# Cross-validation"
   ]
  },
  {
   "cell_type": "code",
   "execution_count": 4,
   "id": "c97384df",
   "metadata": {},
   "outputs": [
    {
     "name": "stdout",
     "output_type": "stream",
     "text": [
      "Logistic Regression CV Scores: [0.95     0.95     0.946875 0.934375 0.96875 ]\n"
     ]
    }
   ],
   "source": [
    "# Cross-validation for Logistic Regression\n",
    "log_reg_cv_scores = cross_val_score(log_reg, X_train_scaled, y_train, cv=5)\n",
    "print(\"Logistic Regression CV Scores:\", log_reg_cv_scores)\n"
   ]
  },
  {
   "cell_type": "code",
   "execution_count": 5,
   "id": "b55822b5",
   "metadata": {},
   "outputs": [
    {
     "name": "stdout",
     "output_type": "stream",
     "text": [
      "Logistic Regression Accuracy: 0.975\n",
      "[[101   4   0   0]\n",
      " [  0  91   0   0]\n",
      " [  0   2  87   3]\n",
      " [  0   0   1 111]]\n",
      "              precision    recall  f1-score   support\n",
      "\n",
      "           0       1.00      0.96      0.98       105\n",
      "           1       0.94      1.00      0.97        91\n",
      "           2       0.99      0.95      0.97        92\n",
      "           3       0.97      0.99      0.98       112\n",
      "\n",
      "    accuracy                           0.97       400\n",
      "   macro avg       0.98      0.97      0.97       400\n",
      "weighted avg       0.98      0.97      0.98       400\n",
      "\n"
     ]
    }
   ],
   "source": [
    "from sklearn.metrics import accuracy_score, confusion_matrix, classification_report, mean_squared_error, r2_score\n",
    "\n",
    "# Logistic Regression\n",
    "log_reg = LogisticRegression()\n",
    "log_reg.fit(X_train_scaled, y_train)\n",
    "log_reg_pred = log_reg.predict(X_test_scaled)\n",
    "print(\"Logistic Regression Accuracy:\", accuracy_score(y_test, log_reg_pred))\n",
    "print(confusion_matrix(y_test, log_reg_pred))\n",
    "print(classification_report(y_test, log_reg_pred))\n"
   ]
  },
  {
   "cell_type": "markdown",
   "id": "e899cec7",
   "metadata": {},
   "source": [
    "\n",
    "## Hyperparameter Tuning using Grid Search CV"
   ]
  },
  {
   "cell_type": "code",
   "execution_count": 9,
   "id": "2571867d",
   "metadata": {},
   "outputs": [
    {
     "name": "stdout",
     "output_type": "stream",
     "text": [
      "Best Parameters: {'C': 10, 'penalty': 'l1', 'solver': 'liblinear'}\n",
      "Accuracy with Hyperparameter Tuning: 0.88\n",
      "Accuracy for each fold:\n",
      "[0.832 0.884 0.86  0.896 0.88  0.9   0.864 0.844]\n",
      "Mean Squared Error for each fold:\n",
      "[0.168 0.116 0.14  0.116 0.12  0.1   0.136 0.156]\n",
      "Average Accuracy = 0.87\n",
      "Average MSE = 0.1315\n"
     ]
    }
   ],
   "source": [
    "# Create a Logistic Regression instance\n",
    "log_reg = LogisticRegression(max_iter=1000)\n",
    "\n",
    "# Setting up the hyperparameter grid for Logistic Regression\n",
    "param_grid = {\n",
    "    'C': [0.001, 0.01, 0.1, 1, 10, 100],\n",
    "    'penalty': ['l1', 'l2'],\n",
    "    'solver': ['liblinear']\n",
    "}\n",
    "\n",
    "# Setting up GridSearchCV\n",
    "grid_search = GridSearchCV(log_reg, param_grid, cv=5, scoring='accuracy', verbose=0)\n",
    "\n",
    "# Fitting the model with GridSearchCV\n",
    "grid_search.fit(X_train_scaled, y_train)\n",
    "\n",
    "# Getting the best hyperparameters\n",
    "best_params = grid_search.best_params_\n",
    "best_model = grid_search.best_estimator_\n",
    "\n",
    "# Evaluating the model with the best hyperparameters\n",
    "y_pred = best_model.predict(X_test_scaled)\n",
    "accuracy = accuracy_score(y_test, y_pred)\n",
    "\n",
    "# Output the best parameters and the corresponding accuracy\n",
    "print(\"Best Parameters:\", best_params)\n",
    "print(\"Accuracy with Hyperparameter Tuning:\", accuracy)\n",
    "\n",
    "# Cross-validation\n",
    "cv_results = cross_validate(best_model, X, y, cv=8, scoring=['accuracy', 'neg_mean_squared_error'])\n",
    "\n",
    "# Printing the results\n",
    "print('Accuracy for each fold:')\n",
    "print(cv_results['test_accuracy'])\n",
    "\n",
    "print('Mean Squared Error for each fold:')\n",
    "print(-1 * cv_results['test_neg_mean_squared_error'])\n",
    "\n",
    "print('Average Accuracy =', cv_results['test_accuracy'].mean())\n",
    "print('Average MSE =', (-1 * cv_results['test_neg_mean_squared_error']).mean())\n"
   ]
  },
  {
   "cell_type": "code",
   "execution_count": 7,
   "id": "654877a1",
   "metadata": {},
   "outputs": [
    {
     "data": {
      "image/png": "[encoded data removed]",
      "text/plain": [
       "<Figure size 640x480 with 2 Axes>"
      ]
     },
     "metadata": {},
     "output_type": "display_data"
    }
   ],
   "source": [
    "cm = confusion_matrix(y_test, y_pred)\n",
    "\n",
    "# Visualizing the Confusion Matrix\n",
    "max_val = cm.max()\n",
    "sns.heatmap(cm, annot=True, fmt=\"d\", cmap=\"coolwarm\", vmin=0, vmax=max_val * 1.5)  # Adjust vmax for lighter colors\n",
    "plt.title(\"Confusion Matrix - Logistic Regression\")\n",
    "plt.xlabel(\"Predicted Label\")\n",
    "plt.ylabel(\"True Label\")\n",
    "plt.show()"
   ]
  }
 ],
 "metadata": {
  "kernelspec": {
   "display_name": "Python 3 (ipykernel)",
   "language": "python",
   "name": "python3"
  },
  "language_info": {
   "codemirror_mode": {
    "name": "ipython",
    "version": 3
   },
   "file_extension": ".py",
   "mimetype": "text/x-python",
   "name": "python",
   "nbconvert_exporter": "python",
   "pygments_lexer": "ipython3",
   "version": "3.11.5"
  }
 },
 "nbformat": 4,
 "nbformat_minor": 5
}
