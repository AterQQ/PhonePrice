{
 "cells": [
  {
   "cell_type": "markdown",
   "id": "c913ce23",
   "metadata": {},
   "source": [
    "## Dataset1- Gradient Boosting - Catherine Shi\n",
    "aims to train a model for predicting mobile phone prices based on various attributes, specifications, and features. The goal is to assist phone manufacturers in market research and provide a price indicator for different phones' cost performance."
   ]
  },
  {
   "cell_type": "code",
   "execution_count": 7,
   "id": "6ed26223",
   "metadata": {},
   "outputs": [],
   "source": [
    "import pandas as pd\n",
    "import numpy as np\n",
    "import seaborn as sns\n",
    "import matplotlib.pyplot as plt\n",
    "\n",
    "from sklearn.model_selection import train_test_split, cross_val_score\n",
    "from sklearn.preprocessing import StandardScaler, LabelEncoder\n",
    "from sklearn.linear_model import LinearRegression, LogisticRegression\n",
    "from sklearn.metrics import mean_squared_error, r2_score, accuracy_score\n",
    "from sklearn.ensemble import RandomForestClassifier, GradientBoostingClassifier\n",
    "from sklearn.model_selection import cross_val_score\n",
    "from sklearn.model_selection import train_test_split, GridSearchCV, cross_validate\n",
    "from sklearn.metrics import accuracy_score, confusion_matrix, classification_report, mean_squared_error, r2_score\n"
   ]
  },
  {
   "cell_type": "code",
   "execution_count": 2,
   "id": "16c859e5",
   "metadata": {},
   "outputs": [],
   "source": [
    "# Load the dataset\n",
    "df = pd.read_csv('train.csv')\n",
    "\n",
    "# Data Preprocessin\n",
    "# Splitting the dataset into features and target variable\n",
    "X = df.drop('price_range', axis=1)\n",
    "y = df['price_range']\n",
    "\n",
    "# Splitting the data into training and testing sets\n",
    "X_train, X_test, y_train, y_test = train_test_split(X, y, test_size=0.2, random_state=42)\n",
    "\n",
    "# Feature scaling\n",
    "scaler = StandardScaler()\n",
    "X_train_scaled = scaler.fit_transform(X_train)\n",
    "X_test_scaled = scaler.transform(X_test)"
   ]
  },
  {
   "cell_type": "code",
   "execution_count": 3,
   "id": "67c78205",
   "metadata": {},
   "outputs": [
    {
     "name": "stdout",
     "output_type": "stream",
     "text": [
      "Gradient Boosting CV Scores: [0.884375 0.9125   0.890625 0.8875   0.890625]\n"
     ]
    }
   ],
   "source": [
    "# Gradient Boosting Classifier\n",
    "gb = GradientBoostingClassifier(random_state=42)\n",
    "gb_cv_scores = cross_val_score(gb, X_train_scaled, y_train, cv=5)\n",
    "print(\"Gradient Boosting CV Scores:\", gb_cv_scores)"
   ]
  },
  {
   "cell_type": "code",
   "execution_count": 4,
   "id": "727f7097",
   "metadata": {},
   "outputs": [
    {
     "name": "stdout",
     "output_type": "stream",
     "text": [
      "Gradient Boosting Accuracy: 0.9075\n",
      "[[101   4   0   0]\n",
      " [  4  81   6   0]\n",
      " [  0   5  80   7]\n",
      " [  0   0  11 101]]\n",
      "              precision    recall  f1-score   support\n",
      "\n",
      "           0       0.96      0.96      0.96       105\n",
      "           1       0.90      0.89      0.90        91\n",
      "           2       0.82      0.87      0.85        92\n",
      "           3       0.94      0.90      0.92       112\n",
      "\n",
      "    accuracy                           0.91       400\n",
      "   macro avg       0.91      0.91      0.91       400\n",
      "weighted avg       0.91      0.91      0.91       400\n",
      "\n"
     ]
    }
   ],
   "source": [
    "# Gradient Boosting Classifier\n",
    "gb = GradientBoostingClassifier()\n",
    "gb.fit(X_train_scaled, y_train)\n",
    "gb_pred = gb.predict(X_test_scaled)\n",
    "print(\"Gradient Boosting Accuracy:\", accuracy_score(y_test, gb_pred))\n",
    "print(confusion_matrix(y_test, gb_pred))\n",
    "print(classification_report(y_test, gb_pred))"
   ]
  },
  {
   "cell_type": "markdown",
   "id": "8837473c",
   "metadata": {},
   "source": [
    "## hyperparameter tuning for a Gradient Boosting model "
   ]
  },
  {
   "cell_type": "code",
   "execution_count": 5,
   "id": "e5cc6ccb",
   "metadata": {},
   "outputs": [
    {
     "name": "stdout",
     "output_type": "stream",
     "text": [
      "Best Parameters for Gradient Boosting: {'learning_rate': 0.1, 'max_depth': 3, 'min_samples_split': 6, 'n_estimators': 300}\n",
      "Accuracy with Hyperparameter Tuning for Gradient Boosting: 0.915\n"
     ]
    }
   ],
   "source": [
    "from sklearn.ensemble import GradientBoostingClassifier\n",
    "from sklearn.model_selection import train_test_split, GridSearchCV\n",
    "from sklearn.metrics import accuracy_score\n",
    "import pandas as pd\n",
    "\n",
    "# Load the dataset\n",
    "df = pd.read_csv('train.csv')\n",
    "\n",
    "# Splitting the dataset into features (X) and the target variable (y)\n",
    "X = df.drop('price_range', axis=1)\n",
    "y = df['price_range']\n",
    "\n",
    "# Splitting the data into training and testing sets\n",
    "X_train, X_test, y_train, y_test = train_test_split(X, y, test_size=0.2, random_state=42)\n",
    "\n",
    "# Setting up the hyperparameter grid for Gradient Boosting\n",
    "param_grid_gb = {\n",
    "    'n_estimators': [100, 200, 300],\n",
    "    'learning_rate': [0.01, 0.1, 0.2],\n",
    "    'max_depth': [3, 4, 5],\n",
    "    'min_samples_split': [2, 4, 6]\n",
    "}\n",
    "\n",
    "# Create a Gradient Boosting Classifier instance\n",
    "gb = GradientBoostingClassifier()\n",
    "\n",
    "# Setting up GridSearchCV for Gradient Boosting\n",
    "grid_search_gb = GridSearchCV(gb, param_grid_gb, cv=5, scoring='accuracy', verbose=0)\n",
    "\n",
    "# Fitting the model with GridSearchCV\n",
    "grid_search_gb.fit(X_train, y_train)\n",
    "\n",
    "# Getting the best hyperparameters\n",
    "best_params_gb = grid_search_gb.best_params_\n",
    "best_model_gb = grid_search_gb.best_estimator_\n",
    "\n",
    "# Evaluating the model with the best hyperparameters\n",
    "y_pred_gb = best_model_gb.predict(X_test)\n",
    "accuracy_gb = accuracy_score(y_test, y_pred_gb)\n",
    "\n",
    "# Output the best parameters and the corresponding accuracy\n",
    "print(\"Best Parameters for Gradient Boosting:\", best_params_gb)\n",
    "print(\"Accuracy with Hyperparameter Tuning for Gradient Boosting:\", accuracy_gb)"
   ]
  },
  {
   "cell_type": "code",
   "execution_count": 8,
   "id": "c8a977e8",
   "metadata": {},
   "outputs": [
    {
     "name": "stdout",
     "output_type": "stream",
     "text": [
      "Accuracy for each fold (Gradient Boosting):\n",
      "[0.916 0.928 0.916 0.908 0.912 0.912 0.872 0.904]\n",
      "Mean Squared Error for each fold (Gradient Boosting):\n",
      "[0.084 0.072 0.084 0.092 0.088 0.088 0.128 0.096]\n",
      "Average Accuracy (Gradient Boosting) = 0.9085000000000001\n",
      "Average MSE (Gradient Boosting) = 0.0915\n"
     ]
    }
   ],
   "source": [
    "# Cross-validation\n",
    "cv_results_gb = cross_validate(best_model_gb, X, y, cv=8, scoring=['accuracy', 'neg_mean_squared_error'])\n",
    "\n",
    "# Printing the results\n",
    "print('Accuracy for each fold (Gradient Boosting):')\n",
    "print(cv_results_gb['test_accuracy'])\n",
    "\n",
    "print('Mean Squared Error for each fold (Gradient Boosting):')\n",
    "print(-1 * cv_results_gb['test_neg_mean_squared_error'])\n",
    "\n",
    "print('Average Accuracy (Gradient Boosting) =', cv_results_gb['test_accuracy'].mean())\n",
    "print('Average MSE (Gradient Boosting) =', (-1 * cv_results_gb['test_neg_mean_squared_error']).mean())\n"
   ]
  },
  {
   "cell_type": "code",
   "execution_count": 10,
   "id": "db6d59c0",
   "metadata": {},
   "outputs": [
    {
     "data": {
      "image/png": "[encoded data removed]",
      "text/plain": [
       "<Figure size 640x480 with 2 Axes>"
      ]
     },
     "metadata": {},
     "output_type": "display_data"
    }
   ],
   "source": [
    "# Gradient Boosting Confusion Matrix\n",
    "cm_gb = confusion_matrix(y_test, y_pred_gb)\n",
    "\n",
    "# Find the maximum value in the confusion matrix for scaling\n",
    "max_val = cm_gb.max()\n",
    "\n",
    "# Visualizing the Confusion Matrix\n",
    "sns.heatmap(cm_gb, annot=True, fmt=\"d\", cmap=\"coolwarm\", vmin=0, vmax=max_val * 1.3)  \n",
    "plt.title(\"Confusion Matrix - Gradient Boosting\")\n",
    "plt.xlabel(\"Predicted Label\")\n",
    "plt.ylabel(\"True Label\")\n",
    "plt.show()\n"
   ]
  },
  {
   "cell_type": "code",
   "execution_count": null,
   "id": "5f539190",
   "metadata": {},
   "outputs": [],
   "source": []
  }
 ],
 "metadata": {
  "kernelspec": {
   "display_name": "Python 3 (ipykernel)",
   "language": "python",
   "name": "python3"
  },
  "language_info": {
   "codemirror_mode": {
    "name": "ipython",
    "version": 3
   },
   "file_extension": ".py",
   "mimetype": "text/x-python",
   "name": "python",
   "nbconvert_exporter": "python",
   "pygments_lexer": "ipython3",
   "version": "3.11.5"
  }
 },
 "nbformat": 4,
 "nbformat_minor": 5
}
