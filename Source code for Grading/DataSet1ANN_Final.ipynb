{
 "cells": [
  {
   "cell_type": "markdown",
   "id": "be15b3ba",
   "metadata": {},
   "source": [
    "# Dataset 1 - Artificial Neural Network - Tyler Babcock"
   ]
  },
  {
   "cell_type": "code",
   "execution_count": 1,
   "id": "b963bc8a",
   "metadata": {},
   "outputs": [],
   "source": [
    "# Code adapted from discussions and hw3 demo\n",
    "# Changed so it would read our data and drop the\n",
    "# correct class. One hot encoding split class differently.\n",
    "# Changed hyperparameter values tested.\n",
    "import pandas as pd\n",
    "import numpy as np\n",
    "import matplotlib.pyplot as plt\n",
    "import seaborn as sns\n",
    "import plotly.express as px\n",
    "import plotly.figure_factory as ff\n",
    "\n",
    "from sklearn.model_selection import train_test_split\n",
    "from sklearn.neural_network import MLPClassifier\n",
    "from sklearn.preprocessing import MinMaxScaler\n",
    "from sklearn.metrics import classification_report, confusion_matrix, multilabel_confusion_matrix\n",
    "from sklearn.metrics import mean_squared_error, accuracy_score, precision_score, recall_score\n",
    "from sklearn.model_selection import cross_validate\n",
    "from sklearn.model_selection import KFold\n",
    "from sklearn.model_selection import train_test_split\n",
    "from sklearn.neural_network import MLPClassifier\n",
    "from sklearn.preprocessing import MinMaxScaler\n",
    "from sklearn.model_selection import GridSearchCV\n",
    "from sklearn.model_selection import RandomizedSearchCV\n",
    "from sklearn.metrics import classification_report, mean_squared_error\n",
    "from sklearn.preprocessing import PolynomialFeatures\n",
    "from sklearn.linear_model import LinearRegression\n",
    "from sklearn.linear_model import LogisticRegression\n",
    "from sklearn import preprocessing\n",
    "from IPython.display import display\n",
    "from sklearn.svm import OneClassSVM\n",
    "from numpy import where"
   ]
  },
  {
   "cell_type": "code",
   "execution_count": 2,
   "id": "c5779146",
   "metadata": {},
   "outputs": [
    {
     "name": "stdout",
     "output_type": "stream",
     "text": [
      "   battery_power  blue  clock_speed  dual_sim  fc  four_g  int_memory  m_dep  \\\n",
      "0            842     0          2.2         0   1       0           7    0.6   \n",
      "1           1021     1          0.5         1   0       1          53    0.7   \n",
      "2            563     1          0.5         1   2       1          41    0.9   \n",
      "3            615     1          2.5         0   0       0          10    0.8   \n",
      "4           1821     1          1.2         0  13       1          44    0.6   \n",
      "\n",
      "   mobile_wt  n_cores  ...  px_height  px_width   ram  sc_h  sc_w  talk_time  \\\n",
      "0        188        2  ...         20       756  2549     9     7         19   \n",
      "1        136        3  ...        905      1988  2631    17     3          7   \n",
      "2        145        5  ...       1263      1716  2603    11     2          9   \n",
      "3        131        6  ...       1216      1786  2769    16     8         11   \n",
      "4        141        2  ...       1208      1212  1411     8     2         15   \n",
      "\n",
      "   three_g  touch_screen  wifi  price_range  \n",
      "0        0             0     1            1  \n",
      "1        1             1     0            2  \n",
      "2        1             1     0            2  \n",
      "3        1             0     0            2  \n",
      "4        1             1     0            1  \n",
      "\n",
      "[5 rows x 21 columns]\n"
     ]
    }
   ],
   "source": [
    "df = pd.read_csv('train.csv') # Data set 1 Training Data\n",
    "print(df.head())"
   ]
  },
  {
   "cell_type": "markdown",
   "id": "007d202d",
   "metadata": {},
   "source": [
    "## Scaling"
   ]
  },
  {
   "cell_type": "code",
   "execution_count": 3,
   "id": "f0d19473",
   "metadata": {},
   "outputs": [
    {
     "name": "stdout",
     "output_type": "stream",
     "text": [
      "Pre-processed data :\n",
      "   battery_power  blue  clock_speed  dual_sim        fc  four_g  int_memory  \\\n",
      "0       0.227789   0.0         0.68       0.0  0.052632     0.0    0.080645   \n",
      "1       0.347361   1.0         0.00       1.0  0.000000     1.0    0.822581   \n",
      "2       0.041416   1.0         0.00       1.0  0.105263     1.0    0.629032   \n",
      "3       0.076152   1.0         0.80       0.0  0.000000     0.0    0.129032   \n",
      "4       0.881764   1.0         0.28       0.0  0.684211     1.0    0.677419   \n",
      "\n",
      "      m_dep  mobile_wt   n_cores    pc  px_height  px_width       ram  \\\n",
      "0  0.555556   0.900000  0.142857  0.10   0.010204  0.170895  0.612774   \n",
      "1  0.666667   0.466667  0.285714  0.30   0.461735  0.993324  0.634687   \n",
      "2  0.888889   0.541667  0.571429  0.30   0.644388  0.811749  0.627205   \n",
      "3  0.777778   0.425000  0.714286  0.45   0.620408  0.858478  0.671566   \n",
      "4  0.555556   0.508333  0.142857  0.70   0.616327  0.475300  0.308658   \n",
      "\n",
      "       sc_h      sc_w  talk_time  three_g  touch_screen  wifi  \n",
      "0  0.285714  0.388889   0.944444      0.0           0.0   1.0  \n",
      "1  0.857143  0.166667   0.277778      1.0           1.0   0.0  \n",
      "2  0.428571  0.111111   0.388889      1.0           1.0   0.0  \n",
      "3  0.785714  0.444444   0.500000      1.0           0.0   0.0  \n",
      "4  0.214286  0.111111   0.722222      1.0           1.0   0.0  \n",
      "Pre-processed class :\n",
      "       0      1      2      3\n",
      "0  False   True  False  False\n",
      "1  False  False   True  False\n",
      "2  False  False   True  False\n",
      "3  False  False   True  False\n",
      "4  False   True  False  False\n",
      "Dimensions of the dataset :  (2000, 21)\n"
     ]
    }
   ],
   "source": [
    "X = df.drop('price_range', axis = 1)\n",
    "y = df['price_range']\n",
    "\n",
    "# normalize data so every feature has the same scale\n",
    "scaler = MinMaxScaler(feature_range=(0, 1))\n",
    "X_rescaled = scaler.fit_transform(X)\n",
    "X = pd.DataFrame(data = X_rescaled, columns = X.columns)\n",
    "\n",
    "# One hot encoding\n",
    "set_of_classes = y.value_counts().index.tolist()\n",
    "set_of_classes= pd.DataFrame({'species': set_of_classes})\n",
    "y = pd.get_dummies(y)\n",
    "\n",
    "print(\"Pre-processed data :\")\n",
    "print(X.head())\n",
    "\n",
    "print(\"Pre-processed class :\")\n",
    "print(y.head())\n",
    "\n",
    "print(\"Dimensions of the dataset : \", df.shape)"
   ]
  },
  {
   "cell_type": "markdown",
   "id": "5ea60520",
   "metadata": {},
   "source": [
    "## Model Training"
   ]
  },
  {
   "cell_type": "code",
   "execution_count": 4,
   "id": "411ffc6f",
   "metadata": {},
   "outputs": [
    {
     "name": "stdout",
     "output_type": "stream",
     "text": [
      "Accuracy :  0.9525\n",
      "Mean Square Error :  0.023125\n",
      "[[0 0 1 0]\n",
      " [0 0 0 1]\n",
      " [1 0 0 0]\n",
      " [1 0 0 0]\n",
      " [1 0 0 0]]\n",
      "Confusion Matrix for each label : \n",
      "[[[296   2]\n",
      "  [  5  97]]\n",
      "\n",
      " [[286  10]\n",
      "  [  6  98]]\n",
      "\n",
      " [[292   6]\n",
      "  [  5  97]]\n",
      "\n",
      " [[308   0]\n",
      "  [  3  89]]]\n",
      "Classification Report : \n",
      "              precision    recall  f1-score   support\n",
      "\n",
      "           0       0.98      0.95      0.97       102\n",
      "           1       0.91      0.94      0.92       104\n",
      "           2       0.94      0.95      0.95       102\n",
      "           3       1.00      0.97      0.98        92\n",
      "\n",
      "   micro avg       0.95      0.95      0.95       400\n",
      "   macro avg       0.96      0.95      0.95       400\n",
      "weighted avg       0.96      0.95      0.95       400\n",
      " samples avg       0.95      0.95      0.95       400\n",
      "\n"
     ]
    },
    {
     "name": "stderr",
     "output_type": "stream",
     "text": [
      "C:\\Users\\Tyler\\anaconda3\\Lib\\site-packages\\sklearn\\metrics\\_classification.py:1469: UndefinedMetricWarning: Precision and F-score are ill-defined and being set to 0.0 in samples with no predicted labels. Use `zero_division` parameter to control this behavior.\n",
      "  _warn_prf(average, modifier, msg_start, len(result))\n"
     ]
    }
   ],
   "source": [
    "data_train, data_test, class_train, class_test = train_test_split(X, y, test_size=0.2)\n",
    "\n",
    "# (# Hidden Layers, # Nodes per Layer) = (1, 1)\n",
    "# Learning rate is 0.1\n",
    "# Number of epochs is 1000\n",
    "mlp = MLPClassifier(solver = 'sgd', random_state = 42, activation = 'logistic', \n",
    "                    learning_rate_init = 0.05, batch_size = 100, \n",
    "                    hidden_layer_sizes = (10, 12), max_iter = 400)\n",
    "\n",
    "y = pd.get_dummies(y)\n",
    "mlp.fit(data_train, class_train)\n",
    "\n",
    "pred = mlp.predict(data_test)\n",
    "\n",
    "print(\"Accuracy : \", accuracy_score(class_test, pred))\n",
    "print(\"Mean Square Error : \", mean_squared_error(class_test, pred))\n",
    "\n",
    "print(pred[:5])\n",
    "print(\"Confusion Matrix for each label : \")\n",
    "print(multilabel_confusion_matrix(class_test, pred))\n",
    "\n",
    "print(\"Classification Report : \")\n",
    "print(classification_report(class_test, pred))"
   ]
  },
  {
   "cell_type": "markdown",
   "id": "e57d8342",
   "metadata": {},
   "source": [
    "## Cross Validation"
   ]
  },
  {
   "cell_type": "code",
   "execution_count": 5,
   "id": "b0d5e183",
   "metadata": {
    "scrolled": true
   },
   "outputs": [
    {
     "name": "stderr",
     "output_type": "stream",
     "text": [
      "C:\\Users\\Tyler\\anaconda3\\Lib\\site-packages\\sklearn\\neural_network\\_multilayer_perceptron.py:691: ConvergenceWarning: Stochastic Optimizer: Maximum iterations (400) reached and the optimization hasn't converged yet.\n",
      "  warnings.warn(\n"
     ]
    },
    {
     "name": "stdout",
     "output_type": "stream",
     "text": [
      "Accuracy\n",
      "[0.944 0.96  0.94  0.948 0.944 0.964 0.952 0.952]\n",
      "MSE\n",
      "[0.026 0.02  0.029 0.026 0.027 0.018 0.024 0.023]\n",
      "Average Accuracy =  0.9504999999999999\n",
      "Average MSE =  0.024125\n"
     ]
    }
   ],
   "source": [
    "CV = cross_validate(mlp, X, y, cv=8, scoring=['accuracy', 'neg_mean_squared_error'])\n",
    "print('Accuracy')\n",
    "print(CV['test_accuracy'])\n",
    "print('MSE')\n",
    "print(-1*CV['test_neg_mean_squared_error'])\n",
    "\n",
    "print('Average Accuracy = ', sum(CV['test_accuracy']) / len(CV['test_accuracy']))\n",
    "print('Average MSE = ', sum(-1 * CV['test_neg_mean_squared_error']) / len(CV['test_neg_mean_squared_error']))"
   ]
  },
  {
   "cell_type": "markdown",
   "id": "348a2f32",
   "metadata": {},
   "source": [
    "## Hyperparameter Tuning"
   ]
  },
  {
   "cell_type": "code",
   "execution_count": 6,
   "id": "e3b90939",
   "metadata": {},
   "outputs": [
    {
     "data": {
      "text/html": [
       "<style>#sk-container-id-1 {color: black;}#sk-container-id-1 pre{padding: 0;}#sk-container-id-1 div.sk-toggleable {background-color: white;}#sk-container-id-1 label.sk-toggleable__label {cursor: pointer;display: block;width: 100%;margin-bottom: 0;padding: 0.3em;box-sizing: border-box;text-align: center;}#sk-container-id-1 label.sk-toggleable__label-arrow:before {content: \"▸\";float: left;margin-right: 0.25em;color: #696969;}#sk-container-id-1 label.sk-toggleable__label-arrow:hover:before {color: black;}#sk-container-id-1 div.sk-estimator:hover label.sk-toggleable__label-arrow:before {color: black;}#sk-container-id-1 div.sk-toggleable__content {max-height: 0;max-width: 0;overflow: hidden;text-align: left;background-color: #f0f8ff;}#sk-container-id-1 div.sk-toggleable__content pre {margin: 0.2em;color: black;border-radius: 0.25em;background-color: #f0f8ff;}#sk-container-id-1 input.sk-toggleable__control:checked~div.sk-toggleable__content {max-height: 200px;max-width: 100%;overflow: auto;}#sk-container-id-1 input.sk-toggleable__control:checked~label.sk-toggleable__label-arrow:before {content: \"▾\";}#sk-container-id-1 div.sk-estimator input.sk-toggleable__control:checked~label.sk-toggleable__label {background-color: #d4ebff;}#sk-container-id-1 div.sk-label input.sk-toggleable__control:checked~label.sk-toggleable__label {background-color: #d4ebff;}#sk-container-id-1 input.sk-hidden--visually {border: 0;clip: rect(1px 1px 1px 1px);clip: rect(1px, 1px, 1px, 1px);height: 1px;margin: -1px;overflow: hidden;padding: 0;position: absolute;width: 1px;}#sk-container-id-1 div.sk-estimator {font-family: monospace;background-color: #f0f8ff;border: 1px dotted black;border-radius: 0.25em;box-sizing: border-box;margin-bottom: 0.5em;}#sk-container-id-1 div.sk-estimator:hover {background-color: #d4ebff;}#sk-container-id-1 div.sk-parallel-item::after {content: \"\";width: 100%;border-bottom: 1px solid gray;flex-grow: 1;}#sk-container-id-1 div.sk-label:hover label.sk-toggleable__label {background-color: #d4ebff;}#sk-container-id-1 div.sk-serial::before {content: \"\";position: absolute;border-left: 1px solid gray;box-sizing: border-box;top: 0;bottom: 0;left: 50%;z-index: 0;}#sk-container-id-1 div.sk-serial {display: flex;flex-direction: column;align-items: center;background-color: white;padding-right: 0.2em;padding-left: 0.2em;position: relative;}#sk-container-id-1 div.sk-item {position: relative;z-index: 1;}#sk-container-id-1 div.sk-parallel {display: flex;align-items: stretch;justify-content: center;background-color: white;position: relative;}#sk-container-id-1 div.sk-item::before, #sk-container-id-1 div.sk-parallel-item::before {content: \"\";position: absolute;border-left: 1px solid gray;box-sizing: border-box;top: 0;bottom: 0;left: 50%;z-index: -1;}#sk-container-id-1 div.sk-parallel-item {display: flex;flex-direction: column;z-index: 1;position: relative;background-color: white;}#sk-container-id-1 div.sk-parallel-item:first-child::after {align-self: flex-end;width: 50%;}#sk-container-id-1 div.sk-parallel-item:last-child::after {align-self: flex-start;width: 50%;}#sk-container-id-1 div.sk-parallel-item:only-child::after {width: 0;}#sk-container-id-1 div.sk-dashed-wrapped {border: 1px dashed gray;margin: 0 0.4em 0.5em 0.4em;box-sizing: border-box;padding-bottom: 0.4em;background-color: white;}#sk-container-id-1 div.sk-label label {font-family: monospace;font-weight: bold;display: inline-block;line-height: 1.2em;}#sk-container-id-1 div.sk-label-container {text-align: center;}#sk-container-id-1 div.sk-container {/* jupyter's `normalize.less` sets `[hidden] { display: none; }` but bootstrap.min.css set `[hidden] { display: none !important; }` so we also need the `!important` here to be able to override the default hidden behavior on the sphinx rendered scikit-learn.org. See: https://github.com/scikit-learn/scikit-learn/issues/21755 */display: inline-block !important;position: relative;}#sk-container-id-1 div.sk-text-repr-fallback {display: none;}</style><div id=\"sk-container-id-1\" class=\"sk-top-container\"><div class=\"sk-text-repr-fallback\"><pre>GridSearchCV(estimator=MLPClassifier(activation=&#x27;logistic&#x27;, batch_size=100,\n",
       "                                     hidden_layer_sizes=(12, 3),\n",
       "                                     learning_rate_init=0.3, max_iter=500,\n",
       "                                     random_state=42, solver=&#x27;sgd&#x27;),\n",
       "             param_grid={&#x27;hidden_layer_sizes&#x27;: [(6, 8), (7, 9), (10, 12)],\n",
       "                         &#x27;learning_rate_init&#x27;: array([0.05, 0.1 , 0.15, 0.2 , 0.25]),\n",
       "                         &#x27;max_iter&#x27;: [400, 600, 800]})</pre><b>In a Jupyter environment, please rerun this cell to show the HTML representation or trust the notebook. <br />On GitHub, the HTML representation is unable to render, please try loading this page with nbviewer.org.</b></div><div class=\"sk-container\" hidden><div class=\"sk-item sk-dashed-wrapped\"><div class=\"sk-label-container\"><div class=\"sk-label sk-toggleable\"><input class=\"sk-toggleable__control sk-hidden--visually\" id=\"sk-estimator-id-1\" type=\"checkbox\" ><label for=\"sk-estimator-id-1\" class=\"sk-toggleable__label sk-toggleable__label-arrow\">GridSearchCV</label><div class=\"sk-toggleable__content\"><pre>GridSearchCV(estimator=MLPClassifier(activation=&#x27;logistic&#x27;, batch_size=100,\n",
       "                                     hidden_layer_sizes=(12, 3),\n",
       "                                     learning_rate_init=0.3, max_iter=500,\n",
       "                                     random_state=42, solver=&#x27;sgd&#x27;),\n",
       "             param_grid={&#x27;hidden_layer_sizes&#x27;: [(6, 8), (7, 9), (10, 12)],\n",
       "                         &#x27;learning_rate_init&#x27;: array([0.05, 0.1 , 0.15, 0.2 , 0.25]),\n",
       "                         &#x27;max_iter&#x27;: [400, 600, 800]})</pre></div></div></div><div class=\"sk-parallel\"><div class=\"sk-parallel-item\"><div class=\"sk-item\"><div class=\"sk-label-container\"><div class=\"sk-label sk-toggleable\"><input class=\"sk-toggleable__control sk-hidden--visually\" id=\"sk-estimator-id-2\" type=\"checkbox\" ><label for=\"sk-estimator-id-2\" class=\"sk-toggleable__label sk-toggleable__label-arrow\">estimator: MLPClassifier</label><div class=\"sk-toggleable__content\"><pre>MLPClassifier(activation=&#x27;logistic&#x27;, batch_size=100, hidden_layer_sizes=(12, 3),\n",
       "              learning_rate_init=0.3, max_iter=500, random_state=42,\n",
       "              solver=&#x27;sgd&#x27;)</pre></div></div></div><div class=\"sk-serial\"><div class=\"sk-item\"><div class=\"sk-estimator sk-toggleable\"><input class=\"sk-toggleable__control sk-hidden--visually\" id=\"sk-estimator-id-3\" type=\"checkbox\" ><label for=\"sk-estimator-id-3\" class=\"sk-toggleable__label sk-toggleable__label-arrow\">MLPClassifier</label><div class=\"sk-toggleable__content\"><pre>MLPClassifier(activation=&#x27;logistic&#x27;, batch_size=100, hidden_layer_sizes=(12, 3),\n",
       "              learning_rate_init=0.3, max_iter=500, random_state=42,\n",
       "              solver=&#x27;sgd&#x27;)</pre></div></div></div></div></div></div></div></div></div></div>"
      ],
      "text/plain": [
       "GridSearchCV(estimator=MLPClassifier(activation='logistic', batch_size=100,\n",
       "                                     hidden_layer_sizes=(12, 3),\n",
       "                                     learning_rate_init=0.3, max_iter=500,\n",
       "                                     random_state=42, solver='sgd'),\n",
       "             param_grid={'hidden_layer_sizes': [(6, 8), (7, 9), (10, 12)],\n",
       "                         'learning_rate_init': array([0.05, 0.1 , 0.15, 0.2 , 0.25]),\n",
       "                         'max_iter': [400, 600, 800]})"
      ]
     },
     "execution_count": 6,
     "metadata": {},
     "output_type": "execute_result"
    }
   ],
   "source": [
    "max_iterations = [400, 600, 800]\n",
    "hidden_layer_siz = [(6, 8), (7, 9), (10, 12)]\n",
    "learning_rates = 0.05 * np.arange(1, 6)\n",
    "\n",
    "param_grid = dict(learning_rate_init = learning_rates, hidden_layer_sizes = hidden_layer_siz, max_iter = max_iterations)\n",
    "# set model\n",
    "mlp = MLPClassifier(solver = 'sgd', random_state = 42, activation = 'logistic', learning_rate_init = 0.3, batch_size = 100, hidden_layer_sizes = (12, 3), max_iter = 500)\n",
    "\n",
    "# For Grid Search\n",
    "grid = GridSearchCV(estimator = mlp, param_grid = param_grid)\n",
    "\n",
    "# For Random Search\n",
    "# grid = RandomizedSearchCV(estimator = mlp, param_distributions = param_grid, n_iter = 10)\n",
    "\n",
    "grid.fit(X,y)"
   ]
  },
  {
   "cell_type": "code",
   "execution_count": 7,
   "id": "f4317cdc",
   "metadata": {},
   "outputs": [
    {
     "name": "stdout",
     "output_type": "stream",
     "text": [
      "Optimal Hyper-parameters :  {'hidden_layer_sizes': (10, 12), 'learning_rate_init': 0.05, 'max_iter': 400}\n",
      "Optimal Accuracy :  0.959\n"
     ]
    }
   ],
   "source": [
    "print(\"Optimal Hyper-parameters : \", grid.best_params_)\n",
    "print(\"Optimal Accuracy : \", grid.best_score_)"
   ]
  }
 ],
 "metadata": {
  "kernelspec": {
   "display_name": "Python 3 (ipykernel)",
   "language": "python",
   "name": "python3"
  },
  "language_info": {
   "codemirror_mode": {
    "name": "ipython",
    "version": 3
   },
   "file_extension": ".py",
   "mimetype": "text/x-python",
   "name": "python",
   "nbconvert_exporter": "python",
   "pygments_lexer": "ipython3",
   "version": "3.11.5"
  }
 },
 "nbformat": 4,
 "nbformat_minor": 5
}
