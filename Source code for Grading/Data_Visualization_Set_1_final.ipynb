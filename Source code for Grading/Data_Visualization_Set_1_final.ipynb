{
 "cells": [
  {
   "cell_type": "markdown",
   "metadata": {},
   "source": [
    "# Dataset 1 Data Visualization - Tyler Babcock"
   ]
  },
  {
   "cell_type": "code",
   "execution_count": null,
   "metadata": {},
   "outputs": [],
   "source": [
    "# Code adapted from hw demos\n",
    "# Changed code to accept our dataset and \n",
    "# ran pairs one at a time to avoid crashes.\n",
    "import matplotlib.pyplot as plt\n",
    "import seaborn as sns\n",
    "import pandas as pd\n",
    "import numpy as np\n",
    "import plotly.express as px\n",
    "import plotly.figure_factory as ff\n",
    "\n",
    "from sklearn.model_selection import train_test_split\n",
    "from sklearn.metrics import classification_report, mean_squared_error\n",
    "from sklearn.preprocessing import PolynomialFeatures\n",
    "from sklearn.linear_model import LinearRegression\n",
    "from sklearn.linear_model import LogisticRegression\n",
    "from sklearn import preprocessing\n",
    "\n",
    "from IPython.display import display\n",
    "\n",
    "from sklearn.svm import OneClassSVM\n",
    "from numpy import where"
   ]
  },
  {
   "cell_type": "code",
   "execution_count": null,
   "metadata": {},
   "outputs": [],
   "source": [
    "df = pd.read_csv('train.csv') #different dataset\n",
    "print(df)"
   ]
  },
  {
   "cell_type": "markdown",
   "metadata": {},
   "source": [
    "# Heatmap"
   ]
  },
  {
   "cell_type": "code",
   "execution_count": null,
   "metadata": {},
   "outputs": [],
   "source": [
    "data = df.copy().drop(columns=['price_range']).corr()\n",
    "pcmp = sns.heatmap(data, vmin=-1, vmax=1, center=0, annot=False, cmap= 'RdBu')"
   ]
  },
  {
   "cell_type": "markdown",
   "metadata": {},
   "source": [
    "# Box Plots\n",
    "## Some of the attributes are binary classification, so their box plots don't mean much"
   ]
  },
  {
   "cell_type": "code",
   "execution_count": null,
   "metadata": {},
   "outputs": [],
   "source": [
    "attribute_names = list(df)\n",
    "for i in attribute_names:\n",
    "    current_attribute = i\n",
    "    current_column = df[i]\n",
    "    fig = plt.figure(figsize=(10,5))\n",
    "    sns.boxplot(x = current_column, flierprops = dict(markerfacecolor = 'orange', marker = 'o'))\n",
    "    plt.title('Box Plot', fontsize=15)\n",
    "    plt.xlabel(i, fontsize=14)\n",
    "    plt.show()"
   ]
  },
  {
   "cell_type": "markdown",
   "metadata": {},
   "source": [
    "# Bar Plots"
   ]
  },
  {
   "cell_type": "code",
   "execution_count": null,
   "metadata": {},
   "outputs": [],
   "source": [
    "fig, axes = plt.subplots(6,4, figsize=(12,12))\n",
    "axes = axes.flatten()\n",
    "\n",
    "# Loop to create subplots\n",
    "i = 0\n",
    "for item in df.items():\n",
    "    sns.histplot(item, kde=True, ax=axes[i])\n",
    "    i+=1\n",
    "\n",
    "plt.show()"
   ]
  },
  {
   "cell_type": "markdown",
   "metadata": {},
   "source": [
    "# Pair Plots\n",
    "## Linear seperation visible at battery_power x ram"
   ]
  },
  {
   "cell_type": "code",
   "execution_count": null,
   "metadata": {},
   "outputs": [],
   "source": [
    "for i in attribute_names:\n",
    "    for j in attribute_names:\n",
    "        if i != j:\n",
    "            my_df = df.loc[:, [i, j, \"price_range\"]]\n",
    "            fig = ff.create_scatterplotmatrix(my_df, diag='histogram', index='price_range', opacity=.8)\n",
    "            fig.show()\n",
    "            \n",
    "# sns.pairplot(dataset, hue='Class', diag_kind='kde')"
   ]
  }
 ],
 "metadata": {
  "kernelspec": {
   "display_name": "Python 3 (ipykernel)",
   "language": "python",
   "name": "python3"
  },
  "language_info": {
   "codemirror_mode": {
    "name": "ipython",
    "version": 3
   },
   "file_extension": ".py",
   "mimetype": "text/x-python",
   "name": "python",
   "nbconvert_exporter": "python",
   "pygments_lexer": "ipython3",
   "version": "3.11.5"
  },
  "vscode": {
   "interpreter": {
    "hash": "bd385fe162c5ca0c84973b7dd5c518456272446b2b64e67c2a69f949ca7a1754"
   }
  }
 },
 "nbformat": 4,
 "nbformat_minor": 4
}
