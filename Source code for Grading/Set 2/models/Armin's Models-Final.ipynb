{
 "cells": [
  {
   "cell_type": "code",
   "execution_count": 1,
   "id": "f3dcb8a7",
   "metadata": {},
   "outputs": [],
   "source": [
    "import pandas as pd\n",
    "import numpy as np\n",
    "import seaborn as sns\n",
    "import matplotlib.pyplot as plt\n",
    "\n",
    "from sklearn.model_selection import train_test_split, cross_val_score\n",
    "from sklearn.preprocessing import StandardScaler, LabelEncoder\n",
    "from sklearn.linear_model import LinearRegression, LogisticRegression\n",
    "from sklearn.metrics import mean_squared_error, r2_score, accuracy_score\n",
    "from sklearn.ensemble import RandomForestClassifier, GradientBoostingClassifier\n",
    "from sklearn.model_selection import cross_val_score\n"
   ]
  },
  {
   "cell_type": "markdown",
   "id": "411ee002",
   "metadata": {},
   "source": [
    "# Data Visualization\n"
   ]
  },
  {
   "cell_type": "code",
   "execution_count": 2,
   "id": "0c31c973",
   "metadata": {},
   "outputs": [
    {
     "data": {
      "text/html": [
       "<div>\n",
       "<style scoped>\n",
       "    .dataframe tbody tr th:only-of-type {\n",
       "        vertical-align: middle;\n",
       "    }\n",
       "\n",
       "    .dataframe tbody tr th {\n",
       "        vertical-align: top;\n",
       "    }\n",
       "\n",
       "    .dataframe thead th {\n",
       "        text-align: right;\n",
       "    }\n",
       "</style>\n",
       "<table border=\"1\" class=\"dataframe\">\n",
       "  <thead>\n",
       "    <tr style=\"text-align: right;\">\n",
       "      <th></th>\n",
       "      <th>phone_name</th>\n",
       "      <th>brand</th>\n",
       "      <th>os</th>\n",
       "      <th>inches</th>\n",
       "      <th>resolution</th>\n",
       "      <th>battery</th>\n",
       "      <th>battery_type</th>\n",
       "      <th>ram(GB)</th>\n",
       "      <th>announcement_date</th>\n",
       "      <th>weight(g)</th>\n",
       "      <th>...</th>\n",
       "      <th>video_1080p</th>\n",
       "      <th>video_4K</th>\n",
       "      <th>video_8K</th>\n",
       "      <th>video_30fps</th>\n",
       "      <th>video_60fps</th>\n",
       "      <th>video_120fps</th>\n",
       "      <th>video_240fps</th>\n",
       "      <th>video_480fps</th>\n",
       "      <th>video_960fps</th>\n",
       "      <th>price(USD)</th>\n",
       "    </tr>\n",
       "  </thead>\n",
       "  <tbody>\n",
       "    <tr>\n",
       "      <th>0</th>\n",
       "      <td>Y6II Compact</td>\n",
       "      <td>Huawei</td>\n",
       "      <td>Android 5.1</td>\n",
       "      <td>5.0</td>\n",
       "      <td>720x1280</td>\n",
       "      <td>2200</td>\n",
       "      <td>Li-Po</td>\n",
       "      <td>2</td>\n",
       "      <td>2016-09-01</td>\n",
       "      <td>140.0</td>\n",
       "      <td>...</td>\n",
       "      <td>False</td>\n",
       "      <td>False</td>\n",
       "      <td>False</td>\n",
       "      <td>True</td>\n",
       "      <td>False</td>\n",
       "      <td>False</td>\n",
       "      <td>False</td>\n",
       "      <td>False</td>\n",
       "      <td>False</td>\n",
       "      <td>120.0</td>\n",
       "    </tr>\n",
       "    <tr>\n",
       "      <th>1</th>\n",
       "      <td>K20 plus</td>\n",
       "      <td>LG</td>\n",
       "      <td>Android 7.0</td>\n",
       "      <td>5.3</td>\n",
       "      <td>720x1280</td>\n",
       "      <td>2700</td>\n",
       "      <td>Li-Ion</td>\n",
       "      <td>2</td>\n",
       "      <td>2016-12-01</td>\n",
       "      <td>140.0</td>\n",
       "      <td>...</td>\n",
       "      <td>True</td>\n",
       "      <td>False</td>\n",
       "      <td>False</td>\n",
       "      <td>True</td>\n",
       "      <td>False</td>\n",
       "      <td>False</td>\n",
       "      <td>False</td>\n",
       "      <td>False</td>\n",
       "      <td>False</td>\n",
       "      <td>100.0</td>\n",
       "    </tr>\n",
       "    <tr>\n",
       "      <th>2</th>\n",
       "      <td>P8 Lite (2017)</td>\n",
       "      <td>Huawei</td>\n",
       "      <td>Android 7.0</td>\n",
       "      <td>5.2</td>\n",
       "      <td>1080x1920</td>\n",
       "      <td>3000</td>\n",
       "      <td>Li-Ion</td>\n",
       "      <td>4</td>\n",
       "      <td>2017-01-01</td>\n",
       "      <td>147.0</td>\n",
       "      <td>...</td>\n",
       "      <td>True</td>\n",
       "      <td>False</td>\n",
       "      <td>False</td>\n",
       "      <td>True</td>\n",
       "      <td>False</td>\n",
       "      <td>False</td>\n",
       "      <td>False</td>\n",
       "      <td>False</td>\n",
       "      <td>False</td>\n",
       "      <td>420.0</td>\n",
       "    </tr>\n",
       "    <tr>\n",
       "      <th>3</th>\n",
       "      <td>Redmi Note 4</td>\n",
       "      <td>Xiaomi</td>\n",
       "      <td>Android 6.0</td>\n",
       "      <td>5.5</td>\n",
       "      <td>1080x1920</td>\n",
       "      <td>4100</td>\n",
       "      <td>Li-Po</td>\n",
       "      <td>4</td>\n",
       "      <td>2017-01-01</td>\n",
       "      <td>165.0</td>\n",
       "      <td>...</td>\n",
       "      <td>True</td>\n",
       "      <td>False</td>\n",
       "      <td>False</td>\n",
       "      <td>True</td>\n",
       "      <td>False</td>\n",
       "      <td>True</td>\n",
       "      <td>False</td>\n",
       "      <td>False</td>\n",
       "      <td>False</td>\n",
       "      <td>150.0</td>\n",
       "    </tr>\n",
       "    <tr>\n",
       "      <th>4</th>\n",
       "      <td>P10</td>\n",
       "      <td>Huawei</td>\n",
       "      <td>Android 7.0</td>\n",
       "      <td>5.1</td>\n",
       "      <td>1080x1920</td>\n",
       "      <td>3200</td>\n",
       "      <td>Li-Ion</td>\n",
       "      <td>4</td>\n",
       "      <td>2017-02-01</td>\n",
       "      <td>145.0</td>\n",
       "      <td>...</td>\n",
       "      <td>True</td>\n",
       "      <td>True</td>\n",
       "      <td>False</td>\n",
       "      <td>True</td>\n",
       "      <td>True</td>\n",
       "      <td>False</td>\n",
       "      <td>False</td>\n",
       "      <td>False</td>\n",
       "      <td>False</td>\n",
       "      <td>420.0</td>\n",
       "    </tr>\n",
       "  </tbody>\n",
       "</table>\n",
       "<p>5 rows × 22 columns</p>\n",
       "</div>"
      ],
      "text/plain": [
       "       phone_name   brand           os  inches resolution  battery  \\\n",
       "0    Y6II Compact  Huawei  Android 5.1     5.0   720x1280     2200   \n",
       "1        K20 plus      LG  Android 7.0     5.3   720x1280     2700   \n",
       "2  P8 Lite (2017)  Huawei  Android 7.0     5.2  1080x1920     3000   \n",
       "3    Redmi Note 4  Xiaomi  Android 6.0     5.5  1080x1920     4100   \n",
       "4             P10  Huawei  Android 7.0     5.1  1080x1920     3200   \n",
       "\n",
       "  battery_type  ram(GB) announcement_date  weight(g)  ...  video_1080p  \\\n",
       "0        Li-Po        2        2016-09-01      140.0  ...        False   \n",
       "1       Li-Ion        2        2016-12-01      140.0  ...         True   \n",
       "2       Li-Ion        4        2017-01-01      147.0  ...         True   \n",
       "3        Li-Po        4        2017-01-01      165.0  ...         True   \n",
       "4       Li-Ion        4        2017-02-01      145.0  ...         True   \n",
       "\n",
       "   video_4K  video_8K  video_30fps  video_60fps  video_120fps  video_240fps  \\\n",
       "0     False     False         True        False         False         False   \n",
       "1     False     False         True        False         False         False   \n",
       "2     False     False         True        False         False         False   \n",
       "3     False     False         True        False          True         False   \n",
       "4      True     False         True         True         False         False   \n",
       "\n",
       "   video_480fps  video_960fps  price(USD)  \n",
       "0         False         False       120.0  \n",
       "1         False         False       100.0  \n",
       "2         False         False       420.0  \n",
       "3         False         False       150.0  \n",
       "4         False         False       420.0  \n",
       "\n",
       "[5 rows x 22 columns]"
      ]
     },
     "execution_count": 2,
     "metadata": {},
     "output_type": "execute_result"
    }
   ],
   "source": [
    "dataSet = pd.read_csv('cleaned_all_phones.csv')\n",
    "dataSet.head()"
   ]
  },
  {
   "cell_type": "code",
   "execution_count": 3,
   "id": "ef68d3c0",
   "metadata": {},
   "outputs": [
    {
     "name": "stdout",
     "output_type": "stream",
     "text": [
      "<class 'pandas.core.frame.DataFrame'>\n",
      "RangeIndex: 1512 entries, 0 to 1511\n",
      "Data columns (total 22 columns):\n",
      " #   Column             Non-Null Count  Dtype  \n",
      "---  ------             --------------  -----  \n",
      " 0   phone_name         1512 non-null   object \n",
      " 1   brand              1512 non-null   object \n",
      " 2   os                 1512 non-null   object \n",
      " 3   inches             1512 non-null   float64\n",
      " 4   resolution         1512 non-null   object \n",
      " 5   battery            1512 non-null   int64  \n",
      " 6   battery_type       1512 non-null   object \n",
      " 7   ram(GB)            1512 non-null   int64  \n",
      " 8   announcement_date  1512 non-null   object \n",
      " 9   weight(g)          1512 non-null   float64\n",
      " 10  storage(GB)        1512 non-null   int64  \n",
      " 11  video_720p         1512 non-null   bool   \n",
      " 12  video_1080p        1512 non-null   bool   \n",
      " 13  video_4K           1512 non-null   bool   \n",
      " 14  video_8K           1512 non-null   bool   \n",
      " 15  video_30fps        1512 non-null   bool   \n",
      " 16  video_60fps        1512 non-null   bool   \n",
      " 17  video_120fps       1512 non-null   bool   \n",
      " 18  video_240fps       1512 non-null   bool   \n",
      " 19  video_480fps       1512 non-null   bool   \n",
      " 20  video_960fps       1512 non-null   bool   \n",
      " 21  price(USD)         1512 non-null   float64\n",
      "dtypes: bool(10), float64(3), int64(3), object(6)\n",
      "memory usage: 156.6+ KB\n"
     ]
    },
    {
     "data": {
      "image/png": "[encoded data removed]",
      "text/plain": [
       "<Figure size 640x480 with 1 Axes>"
      ]
     },
     "metadata": {},
     "output_type": "display_data"
    }
   ],
   "source": [
    "dataSet.info()\n",
    "#This data set has only only 3 integer data type attributes\n",
    "plt.scatter(dataSet[['ram(GB)']], dataSet[['price(USD)']], color ='blue', label = \"Actual\")\n",
    "plt.xlabel('ram(GB)')\n",
    "plt.ylabel('Actual Price')\n",
    "plt.show()"
   ]
  },
  {
   "cell_type": "markdown",
   "id": "0cebad57",
   "metadata": {},
   "source": [
    "# Model Creation"
   ]
  },
  {
   "cell_type": "code",
   "execution_count": 4,
   "id": "c81c3d20",
   "metadata": {},
   "outputs": [],
   "source": [
    "#dropping all non numeric columns for simplicity \n",
    "dataSet_numeric = dataSet.select_dtypes(include = ['float64', 'int64', 'bool'])\n",
    "#features\n",
    "X = dataSet_numeric.drop('price(USD)', axis = 1)\n",
    "#target\n",
    "y = dataSet_numeric['price(USD)']\n",
    "\n",
    "X_train, X_test , y_train, y_test = train_test_split(X,y, test_size = 0.2, random_state = 42)\n",
    "\n",
    "scaler = StandardScaler()\n",
    "X_train_scaled = scaler.fit_transform(X_train)\n",
    "X_test_scaled = scaler.transform(X_test)\n"
   ]
  },
  {
   "cell_type": "markdown",
   "id": "5d19a701",
   "metadata": {},
   "source": [
    "# Linear Regression"
   ]
  },
  {
   "cell_type": "code",
   "execution_count": 5,
   "id": "7de80564",
   "metadata": {},
   "outputs": [
    {
     "name": "stdout",
     "output_type": "stream",
     "text": [
      "Mean Squared Error: 55804.65985376614\n",
      "R-squared: 0.20699718127109612\n"
     ]
    }
   ],
   "source": [
    "model = LinearRegression()\n",
    "model.fit(X_train_scaled, y_train)\n",
    "#make the predictions\n",
    "y_pred = model.predict(X_test_scaled)\n",
    "\n",
    "mse = mean_squared_error(y_test, y_pred)\n",
    "r2 = r2_score(y_test, y_pred)\n",
    "\n",
    "print(f'Mean Squared Error: {mse}')\n",
    "print(f'R-squared: {r2}')"
   ]
  },
  {
   "cell_type": "code",
   "execution_count": 6,
   "id": "f07a6921",
   "metadata": {},
   "outputs": [
    {
     "data": {
      "image/png": "[encoded data removed]",
      "text/plain": [
       "<Figure size 640x480 with 1 Axes>"
      ]
     },
     "metadata": {},
     "output_type": "display_data"
    }
   ],
   "source": [
    "import matplotlib.pyplot as plt\n",
    "\n",
    "# Scatter plot of actual vs predicted prices\n",
    "plt.scatter(y_test, y_pred)\n",
    "plt.xlabel('Actual Prices (USD)')\n",
    "plt.ylabel('Predicted Prices (USD)')\n",
    "plt.title('Actual vs Predicted Prices')\n",
    "plt.show()\n"
   ]
  },
  {
   "cell_type": "markdown",
   "id": "10e69576",
   "metadata": {},
   "source": [
    "This data set has very poor performance in with linear regression because there is no linear pattern. A more complex model is required to achieve higher accuracy. "
   ]
  },
  {
   "cell_type": "markdown",
   "id": "a9eae7e2",
   "metadata": {},
   "source": [
    "# Logistical Regression"
   ]
  },
  {
   "cell_type": "code",
   "execution_count": 7,
   "id": "f6d1e296",
   "metadata": {},
   "outputs": [],
   "source": [
    "# Define price categories (0-3)\n",
    "dataSet_numeric['price_category'] = pd.cut(dataSet_numeric['price(USD)'], bins=[-float('inf'), 0, 100, 500, float('inf')], labels=[0, 1, 2, 3])\n",
    "\n",
    "X = dataSet_numeric.drop(['price(USD)','price_category'], axis=1)\n",
    "y = dataSet_numeric['price_category']\n",
    "\n",
    "# Split the data into training and testing sets\n",
    "X_train, X_test, y_train, y_test = train_test_split(X, y, test_size=0.2, random_state=42)\n",
    "\n",
    "# Standardize the features\n",
    "scaler = StandardScaler()\n",
    "X_train_scaled = scaler.fit_transform(X_train)\n",
    "X_test_scaled = scaler.transform(X_test)"
   ]
  },
  {
   "cell_type": "code",
   "execution_count": 8,
   "id": "86b2a86d",
   "metadata": {},
   "outputs": [
    {
     "name": "stdout",
     "output_type": "stream",
     "text": [
      "Accuracy: 0.7920792079207921\n",
      "              precision    recall  f1-score   support\n",
      "\n",
      "           1       0.00      0.00      0.00        16\n",
      "           2       0.82      0.95      0.88       240\n",
      "           3       0.52      0.28      0.36        47\n",
      "\n",
      "    accuracy                           0.79       303\n",
      "   macro avg       0.45      0.41      0.41       303\n",
      "weighted avg       0.73      0.79      0.75       303\n",
      "\n"
     ]
    },
    {
     "data": {
      "image/png": "[encoded data removed]",
      "text/plain": [
       "<Figure size 640x480 with 1 Axes>"
      ]
     },
     "metadata": {},
     "output_type": "display_data"
    }
   ],
   "source": [
    "from sklearn.linear_model import LogisticRegression\n",
    "from sklearn.metrics import confusion_matrix, accuracy_score, classification_report\n",
    "import seaborn as sns\n",
    "import matplotlib.pyplot as plt\n",
    "\n",
    "log_reg = LogisticRegression(max_iter=1000)\n",
    "log_reg.fit(X_train_scaled, y_train)\n",
    "\n",
    "pred = log_reg.predict(X_test_scaled)\n",
    "\n",
    "conf_matrix = confusion_matrix(y_test, pred)\n",
    "\n",
    "# Evaluate the model\n",
    "accuracy = accuracy_score(y_test, pred)\n",
    "print(f'Accuracy: {accuracy}')\n",
    "\n",
    "print(classification_report(y_test, pred))\n",
    "\n",
    "\n",
    "sns.heatmap(conf_matrix, annot=True, fmt='d', cmap='Blues', cbar=False)\n",
    "plt.title('Confusion Matrix')\n",
    "plt.xlabel('Predicted')\n",
    "plt.ylabel('Actual')\n",
    "plt.show()\n",
    "\n"
   ]
  },
  {
   "cell_type": "markdown",
   "id": "14a0999c",
   "metadata": {},
   "source": [
    "Logistical regression models require a binary target variable which Price(USD) is not, it is continous.  \n",
    "Therefore I created a new column called price_category that classifies the prices ranges from 0 to 100 , 100 to 300 , 300 to 500 and 500 to infinity. \n"
   ]
  }
 ],
 "metadata": {
  "kernelspec": {
   "display_name": "Python 3 (ipykernel)",
   "language": "python",
   "name": "python3"
  },
  "language_info": {
   "codemirror_mode": {
    "name": "ipython",
    "version": 3
   },
   "file_extension": ".py",
   "mimetype": "text/x-python",
   "name": "python",
   "nbconvert_exporter": "python",
   "pygments_lexer": "ipython3",
   "version": "3.9.13"
  }
 },
 "nbformat": 4,
 "nbformat_minor": 5
}
