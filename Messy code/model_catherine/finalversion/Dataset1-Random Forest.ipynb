{
 "cells": [
  {
   "cell_type": "markdown",
   "id": "14062a34",
   "metadata": {},
   "source": [
    "## Dataset1- Random Forest - Catherine\n",
    "aims to train a model for predicting mobile phone prices based on various attributes, specifications, and features. The goal is to assist phone manufacturers in market research and provide a price indicator for different phones' cost performance."
   ]
  },
  {
   "cell_type": "code",
   "execution_count": 7,
   "id": "1d30f447",
   "metadata": {},
   "outputs": [],
   "source": [
    "\n",
    "import pandas as pd\n",
    "import numpy as np\n",
    "import seaborn as sns\n",
    "import matplotlib.pyplot as plt\n",
    "\n",
    "from sklearn.model_selection import train_test_split, cross_val_score\n",
    "from sklearn.preprocessing import StandardScaler, LabelEncoder\n",
    "from sklearn.linear_model import LinearRegression, LogisticRegression\n",
    "from sklearn.metrics import mean_squared_error, r2_score, accuracy_score\n",
    "from sklearn.ensemble import RandomForestClassifier, GradientBoostingClassifier\n",
    "from sklearn.model_selection import cross_val_score\n",
    "from sklearn.model_selection import train_test_split, GridSearchCV, cross_validate\n",
    "from sklearn.metrics import accuracy_score, confusion_matrix, classification_report, mean_squared_error, r2_score\n"
   ]
  },
  {
   "cell_type": "code",
   "execution_count": 2,
   "id": "1b944d74",
   "metadata": {},
   "outputs": [],
   "source": [
    "\n",
    "# Load the dataset\n",
    "df = pd.read_csv('train.csv')\n",
    "\n",
    "# Data Preprocessing\n",
    "\n",
    "# Splitting the dataset into features and target variable\n",
    "X = df.drop('price_range', axis=1)\n",
    "y = df['price_range']\n",
    "\n",
    "# Splitting the data into training and testing sets\n",
    "X_train, X_test, y_train, y_test = train_test_split(X, y, test_size=0.2, random_state=42)\n",
    "\n",
    "# Feature scaling\n",
    "scaler = StandardScaler()\n",
    "X_train_scaled = scaler.fit_transform(X_train)\n",
    "X_test_scaled = scaler.transform(X_test)"
   ]
  },
  {
   "cell_type": "markdown",
   "id": "b02a3fae",
   "metadata": {},
   "source": [
    "# Cross-validation"
   ]
  },
  {
   "cell_type": "code",
   "execution_count": 3,
   "id": "5b5c6be6",
   "metadata": {},
   "outputs": [
    {
     "name": "stdout",
     "output_type": "stream",
     "text": [
      "Random Forest CV Scores: [0.890625 0.884375 0.875    0.846875 0.85625 ]\n"
     ]
    }
   ],
   "source": [
    "# Random Forest Classifier\n",
    "rf = RandomForestClassifier(random_state=42)\n",
    "rf_cv_scores = cross_val_score(rf, X_train_scaled, y_train, cv=5)\n",
    "print(\"Random Forest CV Scores:\", rf_cv_scores)\n"
   ]
  },
  {
   "cell_type": "code",
   "execution_count": 4,
   "id": "40491356",
   "metadata": {},
   "outputs": [
    {
     "name": "stdout",
     "output_type": "stream",
     "text": [
      "Random Forest Accuracy: 0.8775\n",
      "[[100   5   0   0]\n",
      " [  7  76   8   0]\n",
      " [  0   8  76   8]\n",
      " [  0   0  13  99]]\n",
      "              precision    recall  f1-score   support\n",
      "\n",
      "           0       0.93      0.95      0.94       105\n",
      "           1       0.85      0.84      0.84        91\n",
      "           2       0.78      0.83      0.80        92\n",
      "           3       0.93      0.88      0.90       112\n",
      "\n",
      "    accuracy                           0.88       400\n",
      "   macro avg       0.87      0.87      0.87       400\n",
      "weighted avg       0.88      0.88      0.88       400\n",
      "\n"
     ]
    }
   ],
   "source": [
    "# Random Forest Classifier\n",
    "rf = RandomForestClassifier()\n",
    "rf.fit(X_train_scaled, y_train)\n",
    "rf_pred = rf.predict(X_test_scaled)\n",
    "print(\"Random Forest Accuracy:\", accuracy_score(y_test, rf_pred))\n",
    "print(confusion_matrix(y_test, rf_pred))\n",
    "print(classification_report(y_test, rf_pred))"
   ]
  },
  {
   "cell_type": "markdown",
   "id": "833f752c",
   "metadata": {},
   "source": [
    "\n",
    "## Model Training and Evaluation\n",
    "\n",
    "Train the model and evaluate its performance.\n"
   ]
  },
  {
   "cell_type": "code",
   "execution_count": 5,
   "id": "87673283",
   "metadata": {},
   "outputs": [
    {
     "name": "stderr",
     "output_type": "stream",
     "text": [
      "/Users/catherineshi/anaconda3/lib/python3.11/site-packages/sklearn/model_selection/_validation.py:425: FitFailedWarning: \n",
      "90 fits failed out of a total of 270.\n",
      "The score on these train-test partitions for these parameters will be set to nan.\n",
      "If these failures are not expected, you can try to debug them by setting error_score='raise'.\n",
      "\n",
      "Below are more details about the failures:\n",
      "--------------------------------------------------------------------------------\n",
      "90 fits failed with the following error:\n",
      "Traceback (most recent call last):\n",
      "  File \"/Users/catherineshi/anaconda3/lib/python3.11/site-packages/sklearn/model_selection/_validation.py\", line 732, in _fit_and_score\n",
      "    estimator.fit(X_train, y_train, **fit_params)\n",
      "  File \"/Users/catherineshi/anaconda3/lib/python3.11/site-packages/sklearn/base.py\", line 1144, in wrapper\n",
      "    estimator._validate_params()\n",
      "  File \"/Users/catherineshi/anaconda3/lib/python3.11/site-packages/sklearn/base.py\", line 637, in _validate_params\n",
      "    validate_parameter_constraints(\n",
      "  File \"/Users/catherineshi/anaconda3/lib/python3.11/site-packages/sklearn/utils/_param_validation.py\", line 95, in validate_parameter_constraints\n",
      "    raise InvalidParameterError(\n",
      "sklearn.utils._param_validation.InvalidParameterError: The 'max_features' parameter of RandomForestClassifier must be an int in the range [1, inf), a float in the range (0.0, 1.0], a str among {'sqrt', 'log2'} or None. Got 'auto' instead.\n",
      "\n",
      "  warnings.warn(some_fits_failed_message, FitFailedWarning)\n",
      "/Users/catherineshi/anaconda3/lib/python3.11/site-packages/sklearn/model_selection/_search.py:976: UserWarning: One or more of the test scores are non-finite: [     nan      nan      nan 0.815    0.815625 0.8225   0.80125  0.811875\n",
      " 0.8175        nan      nan      nan 0.83875  0.845    0.84     0.8275\n",
      " 0.836875 0.846875      nan      nan      nan 0.8525   0.85375  0.85\n",
      " 0.855625 0.858125 0.8625        nan      nan      nan 0.800625 0.81\n",
      " 0.81875  0.790625 0.821875 0.816875      nan      nan      nan 0.840625\n",
      " 0.844375 0.844375 0.82375  0.84     0.84625       nan      nan      nan\n",
      " 0.86375  0.863125 0.86625  0.8525   0.865625 0.868125]\n",
      "  warnings.warn(\n"
     ]
    },
    {
     "name": "stdout",
     "output_type": "stream",
     "text": [
      "Best Parameters: {'criterion': 'entropy', 'max_depth': 8, 'max_features': 'log2', 'n_estimators': 150}\n",
      "Best Score: 0.868125\n",
      "Random Forest Accuracy: 0.8925\n"
     ]
    }
   ],
   "source": [
    "\n",
    "# Model Tuning with Grid Search\n",
    "\n",
    "from sklearn.model_selection import GridSearchCV\n",
    "\n",
    "#Grid Search for Random Forest\n",
    "param_grid = {\n",
    "    'n_estimators': [50, 100, 150],\n",
    "    'max_features': ['auto', 'sqrt', 'log2'],\n",
    "    'max_depth' : [4, 6, 8],\n",
    "    'criterion' :['gini', 'entropy']\n",
    "}\n",
    "\n",
    "rf_grid = GridSearchCV(estimator=rf, param_grid=param_grid, cv=5)\n",
    "rf_grid.fit(X_train_scaled, y_train)\n",
    "\n",
    "# Best parameters and best score\n",
    "print(\"Best Parameters:\", rf_grid.best_params_)\n",
    "print(\"Best Score:\", rf_grid.best_score_)\n",
    "\n",
    "# Random Forest\n",
    "rf_model = RandomForestClassifier(random_state=42)\n",
    "rf_model.fit(X_train, y_train)\n",
    "y_pred_rf = rf_model.predict(X_test)\n",
    "print('Random Forest Accuracy:', accuracy_score(y_test, y_pred_rf))\n"
   ]
  },
  {
   "cell_type": "markdown",
   "id": "3daf46ad",
   "metadata": {},
   "source": [
    "##  Hyperparameter tuning for the Random Forest model"
   ]
  },
  {
   "cell_type": "code",
   "execution_count": 8,
   "id": "30bc59d1",
   "metadata": {},
   "outputs": [
    {
     "name": "stdout",
     "output_type": "stream",
     "text": [
      "Best Parameters for Random Forest: {'max_depth': None, 'min_samples_leaf': 1, 'min_samples_split': 5, 'n_estimators': 200}\n",
      "Accuracy with Hyperparameter Tuning for Random Forest: 0.9\n",
      "Accuracy for each fold (Random Forest):\n",
      "[0.896 0.884 0.872 0.9   0.892 0.888 0.848 0.884]\n",
      "Mean Squared Error for each fold (Random Forest):\n",
      "[0.104 0.116 0.128 0.1   0.108 0.112 0.152 0.116]\n",
      "Average Accuracy (Random Forest) = 0.883\n",
      "Average MSE (Random Forest) = 0.11699999999999999\n"
     ]
    }
   ],
   "source": [
    "# Setting up the hyperparameter grid for Random Forest\n",
    "param_grid = {\n",
    "    'n_estimators': [10, 50, 100, 200],\n",
    "    'max_depth': [None, 10, 20, 30],\n",
    "    'min_samples_split': [2, 5, 10],\n",
    "    'min_samples_leaf': [1, 2, 4]\n",
    "}\n",
    "\n",
    "# Create a Random Forest Classifier instance\n",
    "rf = RandomForestClassifier()\n",
    "\n",
    "# Setting up GridSearchCV\n",
    "grid_search_rf = GridSearchCV(rf, param_grid, cv=5, scoring='accuracy', verbose=0)\n",
    "\n",
    "# Fitting the model with GridSearchCV\n",
    "grid_search_rf.fit(X_train, y_train)\n",
    "\n",
    "# Getting the best hyperparameters\n",
    "best_params_rf = grid_search_rf.best_params_\n",
    "best_model_rf = grid_search_rf.best_estimator_\n",
    "\n",
    "# Evaluating the model with the best hyperparameters\n",
    "y_pred_rf = best_model_rf.predict(X_test)\n",
    "accuracy_rf = accuracy_score(y_test, y_pred_rf)\n",
    "\n",
    "# Output the best parameters and the corresponding accuracy\n",
    "print(\"Best Parameters for Random Forest:\", best_params_rf)\n",
    "print(\"Accuracy with Hyperparameter Tuning for Random Forest:\", accuracy_rf)\n",
    "\n",
    "# Cross-validation\n",
    "cv_results_rf = cross_validate(best_model_rf, X, y, cv=8, scoring=['accuracy', 'neg_mean_squared_error'])\n",
    "\n",
    "# Printing the results\n",
    "print('Accuracy for each fold (Random Forest):')\n",
    "print(cv_results_rf['test_accuracy'])\n",
    "\n",
    "print('Mean Squared Error for each fold (Random Forest):')\n",
    "print(-1 * cv_results_rf['test_neg_mean_squared_error'])\n",
    "\n",
    "print('Average Accuracy (Random Forest) =', cv_results_rf['test_accuracy'].mean())\n",
    "print('Average MSE (Random Forest) =', (-1 * cv_results_rf['test_neg_mean_squared_error']).mean())\n"
   ]
  },
  {
   "cell_type": "code",
   "execution_count": 13,
   "id": "0f826438",
   "metadata": {},
   "outputs": [
    {
     "data": {
      "image/png": "[encoded data removed]",
      "text/plain": [
       "<Figure size 640x480 with 2 Axes>"
      ]
     },
     "metadata": {},
     "output_type": "display_data"
    }
   ],
   "source": [
    "\n",
    "# Random Forest Confusion Matrix\n",
    "cm_rf = confusion_matrix(y_test, y_pred_rf)\n",
    "\n",
    "# Find the maximum value in the confusion matrix for scaling\n",
    "max_val = cm_rf.max()\n",
    "\n",
    "# Visualizing the Confusion Matrix\n",
    "sns.heatmap(cm_rf, annot=True, fmt=\"d\", cmap=\"coolwarm\", vmin=0, vmax=max_val * 1.3)  \n",
    "plt.title(\"Confusion Matrix - Random Forest\")\n",
    "plt.xlabel(\"Predicted Label\")\n",
    "plt.ylabel(\"True Label\")\n",
    "plt.show()"
   ]
  },
  {
   "cell_type": "code",
   "execution_count": null,
   "id": "0514fe39",
   "metadata": {},
   "outputs": [],
   "source": []
  }
 ],
 "metadata": {
  "kernelspec": {
   "display_name": "Python 3 (ipykernel)",
   "language": "python",
   "name": "python3"
  },
  "language_info": {
   "codemirror_mode": {
    "name": "ipython",
    "version": 3
   },
   "file_extension": ".py",
   "mimetype": "text/x-python",
   "name": "python",
   "nbconvert_exporter": "python",
   "pygments_lexer": "ipython3",
   "version": "3.11.5"
  }
 },
 "nbformat": 4,
 "nbformat_minor": 5
}
